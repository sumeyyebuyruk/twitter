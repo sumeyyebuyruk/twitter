{
 "cells": [
  {
   "cell_type": "code",
   "execution_count": 7,
   "id": "living-ordinary",
   "metadata": {},
   "outputs": [],
   "source": [
    "import tweepy"
   ]
  },
  {
   "cell_type": "code",
   "execution_count": 8,
   "id": "bearing-translation",
   "metadata": {},
   "outputs": [],
   "source": [
    "consumer_key = '**************'\n",
    "consumer_secret = '************'\n",
    "access_token = '***************'\n",
    "access_token_secret = '************'\n",
    "\n",
    "\n",
    "auth = tweepy.OAuthHandler(consumer_key, consumer_secret)\n",
    "auth.set_access_token(access_token, access_token_secret)\n",
    "api = tweepy.API(auth)"
   ]
  },
  {
   "cell_type": "code",
   "execution_count": 9,
   "id": "shaped-endorsement",
   "metadata": {},
   "outputs": [
    {
     "name": "stdout",
     "output_type": "stream",
     "text": [
      "1455373169083125762\n",
      "Done!!!\n"
     ]
    }
   ],
   "source": [
    " twt = api.search(\"#Goodmorning\",result_type=\"mixed\",count=1) \n",
    " \n",
    "for s in twt:\n",
    "   print(s.id)\n",
    "   sn = s.user.screen_name\n",
    "   m = \"@%s Good Morning\" % (sn)\n",
    "   api.update_status(status=m, in_reply_to_status_id = s.id)\n",
    "print(\"Done!!!\")"
   ]
  },
  {
   "cell_type": "code",
   "execution_count": null,
   "id": "ongoing-accused",
   "metadata": {},
   "outputs": [],
   "source": []
  }
 ],
 "metadata": {
  "kernelspec": {
   "display_name": "Python 3",
   "language": "python",
   "name": "python3"
  },
  "language_info": {
   "codemirror_mode": {
    "name": "ipython",
    "version": 3
   },
   "file_extension": ".py",
   "mimetype": "text/x-python",
   "name": "python",
   "nbconvert_exporter": "python",
   "pygments_lexer": "ipython3",
   "version": "3.8.5"
  }
 },
 "nbformat": 4,
 "nbformat_minor": 5
}
